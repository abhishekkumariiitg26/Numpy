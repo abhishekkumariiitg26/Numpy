{
 "cells": [
  {
   "cell_type": "markdown",
   "metadata": {},
   "source": [
    "## vectors , matrix , Tensor"
   ]
  },
  {
   "cell_type": "code",
   "execution_count": 1,
   "metadata": {},
   "outputs": [
    {
     "name": "stdout",
     "output_type": "stream",
     "text": [
      "[1 2 5 4 8 9 7 6]\n"
     ]
    }
   ],
   "source": [
    "import numpy as np\n",
    "vector=np.array([1,2,5,4,8,9,7,6])\n",
    "print(vector)"
   ]
  },
  {
   "cell_type": "code",
   "execution_count": 4,
   "metadata": {},
   "outputs": [
    {
     "name": "stdout",
     "output_type": "stream",
     "text": [
      "[[1 2 5 4 6]\n",
      " [8 5 4 1 2]]\n"
     ]
    }
   ],
   "source": [
    "matrix=np.array([[1,2,5,4,6],[8,5,4,1,2]])\n",
    "print(matrix)"
   ]
  },
  {
   "cell_type": "markdown",
   "metadata": {},
   "source": [
    "## Array Properties\n"
   ]
  },
  {
   "cell_type": "code",
   "execution_count": 9,
   "metadata": {},
   "outputs": [
    {
     "name": "stdout",
     "output_type": "stream",
     "text": [
      "2\n",
      "(2, 3)\n",
      "6\n",
      "int64\n"
     ]
    }
   ],
   "source": [
    "array=np.array([[1,2,3],[5,8,7]])\n",
    "print(array.ndim)\n",
    "print(array.shape)\n",
    "print(array.size)\n",
    "print(array.dtype)"
   ]
  },
  {
   "cell_type": "markdown",
   "metadata": {},
   "source": [
    "## array reshaping"
   ]
  },
  {
   "cell_type": "code",
   "execution_count": 19,
   "metadata": {},
   "outputs": [
    {
     "name": "stdout",
     "output_type": "stream",
     "text": [
      "original array :  [ 0  1  2  3  4  5  6  7  8  9 10 11]\n",
      "\n",
      "reshaped array :  [[ 0  1]\n",
      " [ 2  3]\n",
      " [ 4  5]\n",
      " [ 6  7]\n",
      " [ 8  9]\n",
      " [10 11]]\n",
      "Flattened :  [ 0  1  2  3  4  5  6  7  8  9 10 11]\n",
      "ravelled :  [ 0  1  2  3  4  5  6  7  8  9 10 11]\n",
      "transposed array:  [[ 0  2  4  6  8 10]\n",
      " [ 1  3  5  7  9 11]]\n"
     ]
    }
   ],
   "source": [
    "arr=np.arange(12)\n",
    "print(\"original array : \",arr)\n",
    "reshaped=arr.reshape(6,2)\n",
    "print(\"\\nreshaped array : \",reshaped)\n",
    "flattened=reshaped.flatten()\n",
    "print(\"Flattened : \",flattened)\n",
    "# ravel returns view (original , but not the copy)\n",
    "ravelled=reshaped.ravel()\n",
    "print(\"ravelled : \",ravelled)\n",
    "#Transpose\n",
    "transposed=reshaped.T\n",
    "print(\"transposed array: \",transposed)"
   ]
  },
  {
   "cell_type": "code",
   "execution_count": 7,
   "metadata": {},
   "outputs": [
    {
     "name": "stdout",
     "output_type": "stream",
     "text": [
      "[[[1 2]\n",
      "  [3 4]\n",
      "  [8 9]]\n",
      "\n",
      " [[9 8]\n",
      "  [3 4]\n",
      "  [7 4]]\n",
      "\n",
      " [[1 2]\n",
      "  [3 4]\n",
      "  [8 9]]\n",
      "\n",
      " [[9 8]\n",
      "  [3 4]\n",
      "  [7 4]]]\n"
     ]
    }
   ],
   "source": [
    "tensor=np.array([[[1,2],[3,4],[8,9]],[[9,8],[3,4],[7,4]],[[1,2],[3,4],[8,9]],[[9,8],[3,4],[7,4]]])\n",
    "print(tensor)"
   ]
  },
  {
   "cell_type": "code",
   "execution_count": null,
   "metadata": {},
   "outputs": [],
   "source": []
  }
 ],
 "metadata": {
  "kernelspec": {
   "display_name": "venv",
   "language": "python",
   "name": "python3"
  },
  "language_info": {
   "codemirror_mode": {
    "name": "ipython",
    "version": 3
   },
   "file_extension": ".py",
   "mimetype": "text/x-python",
   "name": "python",
   "nbconvert_exporter": "python",
   "pygments_lexer": "ipython3",
   "version": "3.12.7"
  }
 },
 "nbformat": 4,
 "nbformat_minor": 2
}

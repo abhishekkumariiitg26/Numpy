{
 "cells": [
  {
   "cell_type": "markdown",
   "metadata": {},
   "source": [
    "## Operations on Numpy Array"
   ]
  },
  {
   "cell_type": "code",
   "execution_count": 2,
   "metadata": {},
   "outputs": [
    {
     "name": "stdout",
     "output_type": "stream",
     "text": [
      "Basic slicing:  [3 4 5 6 7]\n",
      "Basic slicing with step:  [3 6]\n"
     ]
    }
   ],
   "source": [
    "import numpy as np\n",
    "arr=np.array([1,2,3,4,5,6,7,8,9])\n",
    "print(\"Basic slicing: \",arr[2:7])\n",
    "print(\"Basic slicing with step: \",arr[2:8:3])"
   ]
  },
  {
   "cell_type": "code",
   "execution_count": 7,
   "metadata": {},
   "outputs": [
    {
     "name": "stdout",
     "output_type": "stream",
     "text": [
      "Specific element:  6\n",
      "entire row:  [4 5 6]\n",
      "entire column:  [ 3  6 12]\n"
     ]
    }
   ],
   "source": [
    "array_2d=np.array([[1,2,3],\n",
    "                   [4,5,6],\n",
    "                   [10,11,12]])\n",
    "print(\"Specific element: \",array_2d[1,2])\n",
    "print(\"entire row: \",array_2d[1])\n",
    "print(\"entire column: \",array_2d[:,2])\n"
   ]
  },
  {
   "cell_type": "markdown",
   "metadata": {},
   "source": [
    "## Sorting numpy arrays"
   ]
  },
  {
   "cell_type": "code",
   "execution_count": 12,
   "metadata": {},
   "outputs": [
    {
     "name": "stdout",
     "output_type": "stream",
     "text": [
      "[1 2 2 3 4 5 6 7 8 9]\n",
      "sorted 2d array by column:  [[1 1]\n",
      " [2 2]\n",
      " [3 3]]\n",
      "sorted 2d array by column:  [[1 3]\n",
      " [1 2]\n",
      " [2 3]]\n"
     ]
    }
   ],
   "source": [
    "unsorted=np.array([8,5,4,9,3,2,2,7,1,6])\n",
    "print(np.sort(unsorted))\n",
    "array_2d_unsorted=np.array([[3,1],[1,2],[2,3]])\n",
    "print(\"sorted 2d array by column: \",np.sort(array_2d_unsorted,axis=0))\n",
    "print(\"sorted 2d array by column: \",np.sort(array_2d_unsorted,axis=1))"
   ]
  },
  {
   "cell_type": "markdown",
   "metadata": {},
   "source": [
    "## Filters"
   ]
  },
  {
   "cell_type": "code",
   "execution_count": 13,
   "metadata": {},
   "outputs": [
    {
     "name": "stdout",
     "output_type": "stream",
     "text": [
      "[ 2  4  6  8 10 12 14 16]\n"
     ]
    }
   ],
   "source": [
    "natural_numbers=np.array([1,2,3,4,5,6,7,8,9,10,11,12,13,14,15,16])\n",
    "even_numbers=natural_numbers[natural_numbers%2==0]\n",
    "print(even_numbers)"
   ]
  },
  {
   "cell_type": "markdown",
   "metadata": {},
   "source": [
    "## Filter with mask"
   ]
  },
  {
   "cell_type": "code",
   "execution_count": 14,
   "metadata": {},
   "outputs": [
    {
     "name": "stdout",
     "output_type": "stream",
     "text": [
      "[ 6  7  8  9 10 11 12 13 14 15 16]\n"
     ]
    }
   ],
   "source": [
    "mask=natural_numbers>5\n",
    "print(natural_numbers[mask])"
   ]
  },
  {
   "cell_type": "markdown",
   "metadata": {},
   "source": [
    "## fancy indexing vs np.where()"
   ]
  },
  {
   "cell_type": "code",
   "execution_count": 15,
   "metadata": {},
   "outputs": [
    {
     "name": "stdout",
     "output_type": "stream",
     "text": [
      "[1 3 5 6]\n"
     ]
    }
   ],
   "source": [
    "indices=[0,2,4,5]\n",
    "print(natural_numbers[indices])"
   ]
  },
  {
   "cell_type": "code",
   "execution_count": 17,
   "metadata": {},
   "outputs": [
    {
     "name": "stdout",
     "output_type": "stream",
     "text": [
      "[ 6  7  8  9 10 11 12 13 14 15 16]\n"
     ]
    }
   ],
   "source": [
    "np_where_result=np.where(natural_numbers>5)\n",
    "print(natural_numbers[np_where_result])"
   ]
  },
  {
   "cell_type": "code",
   "execution_count": 19,
   "metadata": {},
   "outputs": [
    {
     "name": "stdout",
     "output_type": "stream",
     "text": [
      "(array([ 5,  6,  7,  8,  9, 10, 11, 12, 13, 14, 15]),)\n",
      "[ 6  7  8  9 10 11 12 13 14 15 16]\n"
     ]
    }
   ],
   "source": [
    "condition_array=np.where(natural_numbers>5)\n",
    "print(condition_array)\n",
    "print(natural_numbers[condition_array])"
   ]
  },
  {
   "cell_type": "code",
   "execution_count": null,
   "metadata": {},
   "outputs": [
    {
     "name": "stdout",
     "output_type": "stream",
     "text": [
      "[False False False False False  True  True  True  True  True  True  True\n",
      "  True  True  True  True]\n",
      "[ 6  7  8  9 10 11 12 13 14 15 16]\n"
     ]
    }
   ],
   "source": [
    "condition_array=np.where(natural_numbers>5,True,False) #just like if and else\n",
    "print(condition_array)\n",
    "print(natural_numbers[condition_array])"
   ]
  },
  {
   "cell_type": "markdown",
   "metadata": {},
   "source": [
    "## Adding and removing data\n"
   ]
  },
  {
   "cell_type": "code",
   "execution_count": 22,
   "metadata": {},
   "outputs": [
    {
     "name": "stdout",
     "output_type": "stream",
     "text": [
      "[5 7 9]\n",
      "[1 2 3 4 5 6]\n"
     ]
    }
   ],
   "source": [
    "arr1=np.array([1,2,3])\n",
    "arr2=np.array([4,5,6])\n",
    "combined_array=arr1+arr2  # this will add the two arrays\n",
    "actually_combined_array=np.concatenate((arr1,arr2))\n",
    "print(combined_array) \n",
    "print(actually_combined_array)"
   ]
  },
  {
   "cell_type": "markdown",
   "metadata": {},
   "source": [
    "## array compatibility"
   ]
  },
  {
   "cell_type": "code",
   "execution_count": 27,
   "metadata": {},
   "outputs": [
    {
     "name": "stdout",
     "output_type": "stream",
     "text": [
      "compatibility shapes of array:  True\n",
      "compatibility shapes of array:  False\n",
      "compatibility shapes of array:  False\n"
     ]
    }
   ],
   "source": [
    "a=np.array([1,2,3])\n",
    "b=np.array([4,5,6])\n",
    "c=np.array([7,8,5,9])\n",
    "print(\"compatibility shapes of array: \",a.shape==b.shape)\n",
    "print(\"compatibility shapes of array: \",a.shape==c.shape)\n",
    "print(\"compatibility shapes of array: \",b.shape==c.shape)"
   ]
  },
  {
   "cell_type": "markdown",
   "metadata": {},
   "source": [
    "## adding rows and columns"
   ]
  },
  {
   "cell_type": "code",
   "execution_count": 34,
   "metadata": {},
   "outputs": [
    {
     "name": "stdout",
     "output_type": "stream",
     "text": [
      "[[5 4 8]\n",
      " [1 2 3]]\n",
      "[[5 4 8]\n",
      " [1 2 3]\n",
      " [9 8 7]]\n",
      "[[ 5  4  8 10]\n",
      " [ 1  2  3 10]]\n"
     ]
    }
   ],
   "source": [
    "original=np.array([[5,4,8],[1,2,3]])\n",
    "new_row=np.array([9,8,7])\n",
    "orig_with_new_row=np.vstack((original,new_row))\n",
    "print(original)\n",
    "print(orig_with_new_row)\n",
    "new_col=np.array([[10],[10]])\n",
    "# new_col_2=np.array([[10],[10],[10]])\n",
    "orig_with_new_col=np.hstack((original,new_col))\n",
    "# orig_with_new_col_2=np.hstack((orig_with_new_row,new_col))\n",
    "print(orig_with_new_col)\n",
    "# print(orig_with_new_col_2)"
   ]
  },
  {
   "cell_type": "markdown",
   "metadata": {},
   "source": [
    "## deletion"
   ]
  },
  {
   "cell_type": "code",
   "execution_count": 35,
   "metadata": {},
   "outputs": [
    {
     "name": "stdout",
     "output_type": "stream",
     "text": [
      "[1 2 4 5 6]\n"
     ]
    }
   ],
   "source": [
    "my_arr=np.array([1,2,3,4,5,6])\n",
    "deleted=np.delete(my_arr,2)\n",
    "print(deleted)"
   ]
  },
  {
   "cell_type": "code",
   "execution_count": null,
   "metadata": {},
   "outputs": [],
   "source": []
  }
 ],
 "metadata": {
  "kernelspec": {
   "display_name": "venv",
   "language": "python",
   "name": "python3"
  },
  "language_info": {
   "codemirror_mode": {
    "name": "ipython",
    "version": 3
   },
   "file_extension": ".py",
   "mimetype": "text/x-python",
   "name": "python",
   "nbconvert_exporter": "python",
   "pygments_lexer": "ipython3",
   "version": "3.12.7"
  }
 },
 "nbformat": 4,
 "nbformat_minor": 2
}
